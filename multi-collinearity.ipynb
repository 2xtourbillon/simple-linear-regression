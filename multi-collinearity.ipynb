{
 "cells": [
  {
   "cell_type": "code",
   "execution_count": 2,
   "metadata": {},
   "outputs": [],
   "source": [
    "import pandas as pd\n",
    "from sklearn.model_selection import train_test_split\n",
    "from sklearn.linear_model import LinearRegression\n",
    "from sklearn.metrics import r2_score\n",
    "import numpy as np\n",
    "import matplotlib.pyplot as plt"
   ]
  },
  {
   "cell_type": "code",
   "execution_count": 3,
   "metadata": {},
   "outputs": [
    {
     "data": {
      "text/plain": [
       "\" \\nReview: distance, area and crime rate\\nWhich IV's are highly correlated with each other\\n\""
      ]
     },
     "execution_count": 3,
     "metadata": {},
     "output_type": "execute_result"
    }
   ],
   "source": [
    "\"\"\" \n",
    "Review: distance, area and crime rate\n",
    "Which IV's are highly correlated with each other\n",
    "\"\"\""
   ]
  },
  {
   "cell_type": "code",
   "execution_count": 4,
   "metadata": {},
   "outputs": [
    {
     "data": {
      "text/html": [
       "<div>\n",
       "<style scoped>\n",
       "    .dataframe tbody tr th:only-of-type {\n",
       "        vertical-align: middle;\n",
       "    }\n",
       "\n",
       "    .dataframe tbody tr th {\n",
       "        vertical-align: top;\n",
       "    }\n",
       "\n",
       "    .dataframe thead th {\n",
       "        text-align: right;\n",
       "    }\n",
       "</style>\n",
       "<table border=\"1\" class=\"dataframe\">\n",
       "  <thead>\n",
       "    <tr style=\"text-align: right;\">\n",
       "      <th></th>\n",
       "      <th>Area</th>\n",
       "      <th>Distance</th>\n",
       "      <th>Crime Rate</th>\n",
       "      <th>Price</th>\n",
       "    </tr>\n",
       "  </thead>\n",
       "  <tbody>\n",
       "    <tr>\n",
       "      <th>0</th>\n",
       "      <td>89</td>\n",
       "      <td>4</td>\n",
       "      <td>3.84</td>\n",
       "      <td>7.0</td>\n",
       "    </tr>\n",
       "    <tr>\n",
       "      <th>1</th>\n",
       "      <td>66</td>\n",
       "      <td>1</td>\n",
       "      <td>3.19</td>\n",
       "      <td>5.4</td>\n",
       "    </tr>\n",
       "    <tr>\n",
       "      <th>2</th>\n",
       "      <td>78</td>\n",
       "      <td>3</td>\n",
       "      <td>3.78</td>\n",
       "      <td>6.6</td>\n",
       "    </tr>\n",
       "    <tr>\n",
       "      <th>3</th>\n",
       "      <td>111</td>\n",
       "      <td>6</td>\n",
       "      <td>3.89</td>\n",
       "      <td>7.4</td>\n",
       "    </tr>\n",
       "    <tr>\n",
       "      <th>4</th>\n",
       "      <td>44</td>\n",
       "      <td>1</td>\n",
       "      <td>3.57</td>\n",
       "      <td>4.8</td>\n",
       "    </tr>\n",
       "  </tbody>\n",
       "</table>\n",
       "</div>"
      ],
      "text/plain": [
       "   Area  Distance  Crime Rate  Price\n",
       "0    89         4        3.84    7.0\n",
       "1    66         1        3.19    5.4\n",
       "2    78         3        3.78    6.6\n",
       "3   111         6        3.89    7.4\n",
       "4    44         1        3.57    4.8"
      ]
     },
     "execution_count": 4,
     "metadata": {},
     "output_type": "execute_result"
    }
   ],
   "source": [
    "# Import the data\n",
    "file_path = r'data/landprice1.csv'\n",
    "df = pd.read_csv(file_path)\n",
    "df.head()"
   ]
  },
  {
   "cell_type": "code",
   "execution_count": 5,
   "metadata": {},
   "outputs": [
    {
     "name": "stdout",
     "output_type": "stream",
     "text": [
      "0.5787988079381025\n"
     ]
    }
   ],
   "source": [
    "# Area and Distance\n",
    "X = df.iloc[:,0].values # area\n",
    "y = df.iloc[:,1].values # distance\n",
    "\n",
    "# split the dataset\n",
    "X_train, X_test, y_train, y_test = train_test_split(X, y, test_size=0.4, random_state=0)\n",
    "\n",
    "# reshape\n",
    "X_train1 = np.reshape(X_train, (-1, 1))\n",
    "y_train1 = np.reshape(y_train, (-1, 1))\n",
    "\n",
    "X_test1 = np.reshape(X_test, (-1, 1))\n",
    "y_test1 = np.reshape(y_test, (-1, 1))\n",
    "\n",
    "# create regressor\n",
    "lin_regressor = LinearRegression()\n",
    "lin_regressor.fit(X_train1, y_train1)\n",
    "\n",
    "# y_pred\n",
    "y_pred = lin_regressor.predict(X_test1)\n",
    "\n",
    "# r2_score\n",
    "r_square = r2_score(y_test1, y_pred)\n",
    "print(r_square)\n"
   ]
  },
  {
   "cell_type": "code",
   "execution_count": 6,
   "metadata": {},
   "outputs": [
    {
     "data": {
      "image/png": "[encoded data removed]",
      "text/plain": [
       "<Figure size 432x288 with 1 Axes>"
      ]
     },
     "metadata": {
      "needs_background": "light"
     },
     "output_type": "display_data"
    }
   ],
   "source": [
    "# visualize Area and Distance\n",
    "plt.scatter(X_test, y_test, color='blue')\n",
    "plt.plot(X_test, y_pred, color='red')\n",
    "plt.title('Area vs Distance')\n",
    "plt.xlabel('Area')\n",
    "plt.ylabel('Distance')\n",
    "\n",
    "plt.show()"
   ]
  },
  {
   "cell_type": "code",
   "execution_count": 11,
   "metadata": {},
   "outputs": [
    {
     "name": "stdout",
     "output_type": "stream",
     "text": [
      "-0.6651459997202127\n"
     ]
    }
   ],
   "source": [
    "# Area and Crime Rate\n",
    "X = df.iloc[:, 0].values\n",
    "y = df.iloc[:, 2].values\n",
    "\n",
    "# train_test_split\n",
    "X_train, X_test, y_train, y_test = train_test_split(X, y, test_size=0.4, random_state=0)\n",
    "\n",
    "# reshape data\n",
    "X_train1 = np.reshape(X_train, (-1, 1))\n",
    "X_test1 = np.reshape(X_test, (-1, 1))\n",
    "\n",
    "y_train1 = np.reshape(y_train, (-1, 1))\n",
    "y_test1 = np.reshape(y_test, (-1, 1))\n",
    "\n",
    "# initialize regressor\n",
    "lin_regressor = LinearRegression()\n",
    "lin_regressor.fit(X_train1, y_train1)\n",
    "y_pred = lin_regressor.predict(X_test1)\n",
    "\n",
    "# r2_score\n",
    "r_square = r2_score(y_test1, y_pred)\n",
    "print(r_square)\n"
   ]
  },
  {
   "cell_type": "code",
   "execution_count": 13,
   "metadata": {},
   "outputs": [
    {
     "data": {
      "image/png": "[encoded data removed]",
      "text/plain": [
       "<Figure size 432x288 with 1 Axes>"
      ]
     },
     "metadata": {
      "needs_background": "light"
     },
     "output_type": "display_data"
    }
   ],
   "source": [
    "plt.scatter(X_test1, y_test1, color='blue')\n",
    "plt.plot(X_test1, y_pred, color='red')\n",
    "plt.title('Area and Crime')\n",
    "plt.xlabel('Area')\n",
    "plt.ylabel('Crime')\n",
    "\n",
    "plt.show()"
   ]
  },
  {
   "cell_type": "code",
   "execution_count": 17,
   "metadata": {},
   "outputs": [
    {
     "name": "stdout",
     "output_type": "stream",
     "text": [
      "-0.5030717486283867\n"
     ]
    }
   ],
   "source": [
    "# Distance and Crime Rate\n",
    "X = df.iloc[:, 1].values\n",
    "y = df.iloc[:, 2].values\n",
    "\n",
    "# train_test_split\n",
    "X_train, X_test, y_train, y_test = train_test_split(X, y, test_size=0.4, random_state=0)\n",
    "\n",
    "# reshape the data\n",
    "X_train1 = np.reshape(X_train, (-1, 1))\n",
    "y_train1 = np.reshape(y_train, (-1, 1))\n",
    "\n",
    "X_test1 = np.reshape(X_test, (-1, 1))\n",
    "y_test1 = np.reshape(y_test, (-1, 1))\n",
    "\n",
    "# lin_regressor\n",
    "lin_regressor = LinearRegression()\n",
    "lin_regressor.fit(X_train1, y_train1)\n",
    "y_pred = lin_regressor.predict(X_test1)\n",
    "\n",
    "# r2\n",
    "r_square = r2_score(y_test, y_pred)\n",
    "print(r_square)"
   ]
  },
  {
   "cell_type": "code",
   "execution_count": 18,
   "metadata": {},
   "outputs": [
    {
     "data": {
      "image/png": "[encoded data removed]",
      "text/plain": [
       "<Figure size 432x288 with 1 Axes>"
      ]
     },
     "metadata": {
      "needs_background": "light"
     },
     "output_type": "display_data"
    }
   ],
   "source": [
    "plt.scatter(X_test1, y_test1, color='blue')\n",
    "plt.plot(X_test1, y_pred, color='red')\n",
    "plt.title('Distance and Crime')\n",
    "plt.xlabel('Distance')\n",
    "plt.ylabel('Crime')\n",
    "\n",
    "plt.show()"
   ]
  },
  {
   "cell_type": "code",
   "execution_count": null,
   "metadata": {},
   "outputs": [],
   "source": []
  }
 ],
 "metadata": {
  "interpreter": {
   "hash": "11122084d5fbf95b180c2e08632cb706bd71825c3b6cb63b048af101e438364a"
  },
  "kernelspec": {
   "display_name": "Python 3.9.4 ('simple-linear-regression-QOIdzjHg-py3.9')",
   "language": "python",
   "name": "python3"
  },
  "language_info": {
   "codemirror_mode": {
    "name": "ipython",
    "version": 3
   },
   "file_extension": ".py",
   "mimetype": "text/x-python",
   "name": "python",
   "nbconvert_exporter": "python",
   "pygments_lexer": "ipython3",
   "version": "3.9.4"
  },
  "orig_nbformat": 4
 },
 "nbformat": 4,
 "nbformat_minor": 2
}
