{
 "cells": [
  {
   "cell_type": "code",
   "execution_count": 1,
   "metadata": {},
   "outputs": [],
   "source": [
    "import pandas as pd\n",
    "import numpy as np\n",
    "from sklearn.model_selection import train_test_split\n",
    "from sklearn.linear_model import LinearRegression\n",
    "from sklearn.metrics import r2_score"
   ]
  },
  {
   "cell_type": "code",
   "execution_count": 12,
   "metadata": {},
   "outputs": [],
   "source": [
    "def readFile():\n",
    "    dataset = pd.read_csv(r'data/landprice1.csv')\n",
    "    X = dataset.iloc[:, 0].values\n",
    "    y = dataset.iloc[:, 3].values\n",
    "\n",
    "    return X, y, dataset\n",
    "\n",
    "X, y, df = readFile()"
   ]
  },
  {
   "cell_type": "code",
   "execution_count": 13,
   "metadata": {},
   "outputs": [
    {
     "data": {
      "text/html": [
       "<div>\n",
       "<style scoped>\n",
       "    .dataframe tbody tr th:only-of-type {\n",
       "        vertical-align: middle;\n",
       "    }\n",
       "\n",
       "    .dataframe tbody tr th {\n",
       "        vertical-align: top;\n",
       "    }\n",
       "\n",
       "    .dataframe thead th {\n",
       "        text-align: right;\n",
       "    }\n",
       "</style>\n",
       "<table border=\"1\" class=\"dataframe\">\n",
       "  <thead>\n",
       "    <tr style=\"text-align: right;\">\n",
       "      <th></th>\n",
       "      <th>Area</th>\n",
       "      <th>Distance</th>\n",
       "      <th>Crime Rate</th>\n",
       "      <th>Price</th>\n",
       "    </tr>\n",
       "  </thead>\n",
       "  <tbody>\n",
       "    <tr>\n",
       "      <th>count</th>\n",
       "      <td>17.000000</td>\n",
       "      <td>17.000000</td>\n",
       "      <td>17.000000</td>\n",
       "      <td>17.000000</td>\n",
       "    </tr>\n",
       "    <tr>\n",
       "      <th>mean</th>\n",
       "      <td>80.058824</td>\n",
       "      <td>2.941176</td>\n",
       "      <td>3.484118</td>\n",
       "      <td>6.482353</td>\n",
       "    </tr>\n",
       "    <tr>\n",
       "      <th>std</th>\n",
       "      <td>19.165303</td>\n",
       "      <td>1.638238</td>\n",
       "      <td>0.274728</td>\n",
       "      <td>0.835341</td>\n",
       "    </tr>\n",
       "    <tr>\n",
       "      <th>min</th>\n",
       "      <td>44.000000</td>\n",
       "      <td>1.000000</td>\n",
       "      <td>3.030000</td>\n",
       "      <td>4.800000</td>\n",
       "    </tr>\n",
       "    <tr>\n",
       "      <th>25%</th>\n",
       "      <td>75.000000</td>\n",
       "      <td>2.000000</td>\n",
       "      <td>3.210000</td>\n",
       "      <td>6.400000</td>\n",
       "    </tr>\n",
       "    <tr>\n",
       "      <th>50%</th>\n",
       "      <td>79.000000</td>\n",
       "      <td>3.000000</td>\n",
       "      <td>3.540000</td>\n",
       "      <td>6.800000</td>\n",
       "    </tr>\n",
       "    <tr>\n",
       "      <th>75%</th>\n",
       "      <td>89.000000</td>\n",
       "      <td>4.000000</td>\n",
       "      <td>3.700000</td>\n",
       "      <td>7.000000</td>\n",
       "    </tr>\n",
       "    <tr>\n",
       "      <th>max</th>\n",
       "      <td>111.000000</td>\n",
       "      <td>6.000000</td>\n",
       "      <td>3.890000</td>\n",
       "      <td>7.400000</td>\n",
       "    </tr>\n",
       "  </tbody>\n",
       "</table>\n",
       "</div>"
      ],
      "text/plain": [
       "             Area   Distance  Crime Rate      Price\n",
       "count   17.000000  17.000000   17.000000  17.000000\n",
       "mean    80.058824   2.941176    3.484118   6.482353\n",
       "std     19.165303   1.638238    0.274728   0.835341\n",
       "min     44.000000   1.000000    3.030000   4.800000\n",
       "25%     75.000000   2.000000    3.210000   6.400000\n",
       "50%     79.000000   3.000000    3.540000   6.800000\n",
       "75%     89.000000   4.000000    3.700000   7.000000\n",
       "max    111.000000   6.000000    3.890000   7.400000"
      ]
     },
     "execution_count": 13,
     "metadata": {},
     "output_type": "execute_result"
    }
   ],
   "source": [
    "df.describe(include='all')"
   ]
  },
  {
   "cell_type": "code",
   "execution_count": 14,
   "metadata": {},
   "outputs": [
    {
     "name": "stdout",
     "output_type": "stream",
     "text": [
      "(10,)\n",
      "(7,)\n",
      "(10,)\n",
      "(7,)\n"
     ]
    }
   ],
   "source": [
    "def split_data(X, y):\n",
    "    X_train, X_test, y_train, y_test = train_test_split(X, y, test_size=0.4, random_state=0)\n",
    "    return X_train, X_test, y_train, y_test\n",
    "\n",
    "X_train, X_test, y_train, y_test = split_data(X, y)\n",
    "\n",
    "for i in [X_train, X_test, y_train, y_test]:\n",
    "    print(f'{i.shape}')\n"
   ]
  },
  {
   "cell_type": "code",
   "execution_count": 15,
   "metadata": {},
   "outputs": [
    {
     "data": {
      "text/plain": [
       "(10,)"
      ]
     },
     "execution_count": 15,
     "metadata": {},
     "output_type": "execute_result"
    }
   ],
   "source": [
    "X_train.shape"
   ]
  },
  {
   "cell_type": "code",
   "execution_count": 16,
   "metadata": {},
   "outputs": [],
   "source": [
    "X_train1 = np.reshape(X_train, (-1, 1))\n",
    "# y_train1 = np.reshape(y_train, (-1, 1))\n",
    "\n",
    "# X_test1 = np.reshape(X_test, (-1, 1))\n",
    "# y_test1 = np.reshape(y_test, (-1, 1))\n"
   ]
  },
  {
   "cell_type": "code",
   "execution_count": 17,
   "metadata": {},
   "outputs": [
    {
     "name": "stdout",
     "output_type": "stream",
     "text": [
      "[[5.92668224]\n",
      " [6.47294393]\n",
      " [7.60448598]\n",
      " [6.27785047]\n",
      " [6.43392523]\n",
      " [5.06827103]\n",
      " [6.39490654]]\n"
     ]
    }
   ],
   "source": [
    "def model_train(X_train, X_test, y_train, y_test):\n",
    "    lin_regressor = None\n",
    "    X_train1 = np.reshape(X_train, (-1, 1))\n",
    "    y_train1 = np.reshape(y_train, (-1, 1))\n",
    "\n",
    "    X_test1 = np.reshape(X_test, (-1, 1))\n",
    "    y_test1 = np.reshape(y_test, (-1, 1))\n",
    "    \n",
    "    lin_regressor = LinearRegression()\n",
    "    lin_regressor.fit(X_train1, y_train1)\n",
    "\n",
    "    y_pred = lin_regressor.predict(X_test1)\n",
    "\n",
    "    return y_pred\n",
    "\n",
    "y_pred = model_train(X_train, X_test, y_train, y_test)\n",
    "print(y_pred)"
   ]
  },
  {
   "cell_type": "code",
   "execution_count": 18,
   "metadata": {},
   "outputs": [
    {
     "name": "stdout",
     "output_type": "stream",
     "text": [
      "0.8138935953282398\n"
     ]
    }
   ],
   "source": [
    "r_square = r2_score(y_test, y_pred)\n",
    "print(r_square)"
   ]
  },
  {
   "cell_type": "code",
   "execution_count": null,
   "metadata": {},
   "outputs": [],
   "source": []
  }
 ],
 "metadata": {
  "interpreter": {
   "hash": "11122084d5fbf95b180c2e08632cb706bd71825c3b6cb63b048af101e438364a"
  },
  "kernelspec": {
   "display_name": "Python 3.9.4 ('simple-linear-regression-QOIdzjHg-py3.9')",
   "language": "python",
   "name": "python3"
  },
  "language_info": {
   "codemirror_mode": {
    "name": "ipython",
    "version": 3
   },
   "file_extension": ".py",
   "mimetype": "text/x-python",
   "name": "python",
   "nbconvert_exporter": "python",
   "pygments_lexer": "ipython3",
   "version": "3.9.4"
  },
  "orig_nbformat": 4
 },
 "nbformat": 4,
 "nbformat_minor": 2
}
